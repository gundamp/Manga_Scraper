{
 "cells": [
  {
   "cell_type": "code",
   "execution_count": 7,
   "metadata": {},
   "outputs": [],
   "source": [
    "## Import libraries\n",
    "\n",
    "import pandas as pd\n",
    "import requests\n",
    "from bs4 import BeautifulSoup\n",
    "from selenium import webdriver\n",
    "from selenium.webdriver.firefox.options import Options\n",
    "import time\n",
    "#from selenium.webdriver.firefox.firefox_binary import FirefoxBinary\n",
    "from urllib.parse import urljoin\n",
    "import urllib"
   ]
  },
  {
   "cell_type": "code",
   "execution_count": 8,
   "metadata": {},
   "outputs": [
    {
     "name": "stdout",
     "output_type": "stream",
     "text": [
      "https://v2.mangapark.net/manga/mix/i379049/c1\n"
     ]
    },
    {
     "name": "stderr",
     "output_type": "stream",
     "text": [
      "C:\\Users\\Jin\\Anaconda3\\lib\\site-packages\\ipykernel_launcher.py:13: DeprecationWarning: use options instead of chrome_options\n",
      "  del sys.path[0]\n"
     ]
    }
   ],
   "source": [
    "## Test downloads from a single webpage\n",
    "\n",
    "url = \"https://v2.mangapark.net/manga/mix/i379049/c1\"\n",
    "print(url)\n",
    "\n",
    "\n",
    "options = webdriver.ChromeOptions()\n",
    "options.add_argument('--headless')\n",
    "\n",
    "#binary = ChromeBinary('C:/Program Files (x86)/Google/Chrome/Application/chrome.exe')\n",
    "driver = webdriver.Chrome(#chrome_binary = binary, \n",
    "                          executable_path = r'C:\\Users\\Jin\\Documents\\Webscraping\\Drivers\\chromedriver.exe',\n",
    "                          chrome_options = options\n",
    "                         )\n",
    "driver.get(url)\n",
    "\n",
    "soup = BeautifulSoup(driver.page_source, 'html')\n",
    "#soup\n",
    "\n",
    "try:\n",
    "\n",
    "    for i in range(35):    \n",
    "        urllib.request.urlretrieve(str(soup.find_all(class_ = \"img\")[i].attrs[\"src\"]),\n",
    "                               \"Manga/p{}.jpg\".format(i))\n",
    "\n",
    "except:\n",
    "    pass"
   ]
  },
  {
   "cell_type": "code",
   "execution_count": 9,
   "metadata": {},
   "outputs": [
    {
     "data": {
      "text/plain": [
       "'/manga/mix/i379050/c2'"
      ]
     },
     "execution_count": 9,
     "metadata": {},
     "output_type": "execute_result"
    }
   ],
   "source": [
    "## It appears position (12) of next page's url can be hard-coded\n",
    "\n",
    "soup.find_all(\"a\", href= True)[12].get(\"href\")"
   ]
  },
  {
   "cell_type": "code",
   "execution_count": 6,
   "metadata": {},
   "outputs": [
    {
     "name": "stdout",
     "output_type": "stream",
     "text": [
      "https://v2.mangapark.net/manga/mix/i1301013/c61\n"
     ]
    },
    {
     "name": "stderr",
     "output_type": "stream",
     "text": [
      "C:\\Users\\Jin\\Anaconda3\\lib\\site-packages\\ipykernel_launcher.py:13: DeprecationWarning: use options instead of chrome_options\n",
      "  del sys.path[0]\n"
     ]
    },
    {
     "name": "stdout",
     "output_type": "stream",
     "text": [
      "https://v2.mangapark.net/manga/mix/i1301012/c62\n",
      "https://v2.mangapark.net/manga/mix/i1301011/c63\n",
      "https://v2.mangapark.net/manga/mix/i1301010/c64\n",
      "https://v2.mangapark.net/manga/mix/i1301008/c65\n",
      "https://v2.mangapark.net/manga/mix/i1301007/c66\n",
      "https://v2.mangapark.net/manga/mix/i1300879/c67\n",
      "https://v2.mangapark.net/manga/mix/i1300878/c68\n",
      "https://v2.mangapark.net/manga/mix/i1300877/c69\n",
      "https://v2.mangapark.net/manga/mix/i1300876/c70\n",
      "https://v2.mangapark.net/manga/mix/i1300866/c71\n",
      "https://v2.mangapark.net/manga/mix/i1300864/c72\n",
      "https://v2.mangapark.net/manga/mix/i1300861/c73\n",
      "https://v2.mangapark.net/manga/mix/i1300860/c74\n",
      "https://v2.mangapark.net/manga/mix/i1300859/c75\n",
      "https://v2.mangapark.net/manga/mix/i1304538/c76\n",
      "https://v2.mangapark.net/manga/mix/i2096810/c77\n",
      "https://v2.mangapark.net/manga/mix/i2096811/c78\n",
      "https://v2.mangapark.net/manga/mix/i2096812/c79\n",
      "https://v2.mangapark.net/manga/mix/i2096815/c80\n"
     ]
    }
   ],
   "source": [
    "## Scrape away\n",
    "\n",
    "url = \"https://v2.mangapark.net/manga/mix/i1301013/c61\"\n",
    "upper_limit = 81\n",
    "\n",
    "for j in range(61, upper_limit):\n",
    "      \n",
    "    print(url)\n",
    "    options = webdriver.ChromeOptions()\n",
    "    options.add_argument('--headless')\n",
    "    driver = webdriver.Chrome(\n",
    "                              executable_path = r'C:\\Users\\Jin\\Documents\\Webscraping\\Drivers\\chromedriver.exe',\n",
    "                              chrome_options = options\n",
    "                             )\n",
    "    driver.get(url)\n",
    "    soup = BeautifulSoup(driver.page_source, 'html')\n",
    "\n",
    "    try:\n",
    "\n",
    "        for i in range(50):    \n",
    "            urllib.request.urlretrieve(str(soup.find_all(class_ = \"img\")[i].attrs[\"src\"]),\n",
    "                                   \"Mix/\" + str(j) + \"_\" + str(i) + \".jpg\".format(i))\n",
    "\n",
    "    except: ## number of pictures may vary on a webpage\n",
    "        pass\n",
    "\n",
    "    base_url = \"https://v2.mangapark.net/\"\n",
    "    next_page = soup.find_all(\"a\", href = True)[12].get(\"href\")\n",
    "\n",
    "    url = urljoin(base_url, next_page)\n",
    "\n",
    "#next j"
   ]
  },
  {
   "cell_type": "code",
   "execution_count": null,
   "metadata": {},
   "outputs": [],
   "source": []
  }
 ],
 "metadata": {
  "kernelspec": {
   "display_name": "Python 3",
   "language": "python",
   "name": "python3"
  },
  "language_info": {
   "codemirror_mode": {
    "name": "ipython",
    "version": 3
   },
   "file_extension": ".py",
   "mimetype": "text/x-python",
   "name": "python",
   "nbconvert_exporter": "python",
   "pygments_lexer": "ipython3",
   "version": "3.6.7"
  }
 },
 "nbformat": 4,
 "nbformat_minor": 2
}
